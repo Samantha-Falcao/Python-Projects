{
 "cells": [
  {
   "cell_type": "markdown",
   "metadata": {},
   "source": [
    "# Login Form using Python\n",
    "email: samfalcao.15@gmail.com"
   ]
  },
  {
   "cell_type": "markdown",
   "metadata": {},
   "source": [
    "This Login form is created as an assignment for the internship at GrayQuest. The task was to create a simple login page accepting the username and password along with a remember me check field. The credentials provided for the user are to be verified and one default user is to be created and upon validation of log in credentials of this user, a welcome page is to be shown."
   ]
  },
  {
   "cell_type": "markdown",
   "metadata": {},
   "source": [
    "I have used Python to create this login form. Upon executing the below code and running it successfully, the login form shows up where the user need to input their username and password. There is also an option where the user can choose to remember the credentials. Various validation errors have been covered such as **invalid password**, **user not found** and **input fields left blank**."
   ]
  },
  {
   "cell_type": "markdown",
   "metadata": {},
   "source": [
    "One user has been created with the following credentials:\n",
    "\n",
    "**USERNAME: admin**\n",
    "\n",
    "**PASSWORD: pass**\n",
    "\n",
    "With the help of these credentials, we can acheive a successful login and display the login page."
   ]
  },
  {
   "cell_type": "code",
   "execution_count": 1,
   "metadata": {},
   "outputs": [],
   "source": [
    "# importing the necessary libraries\n",
    "\n",
    "from tkinter import *\n",
    "from tkinter import messagebox\n",
    "\n",
    "\n",
    "# the function below is the command that will be executed when user clicks 'login' button.\n",
    "# the below function covers various validation errors, along with a successful login.\n",
    "   \n",
    "def login_verify():\n",
    "    \n",
    "    # the below two lines read the username and password input by the user\n",
    "    username1 = uname.get()\n",
    "    password1 = passw.get()\n",
    "\n",
    "    # checking for validation of credentials\n",
    "    if (username1 == \"\" or password1 == \"\"):  # if no input is found\n",
    "        messagebox.showerror(\"Error\", \"All fields are required!\")\n",
    "        \n",
    "    elif username1 == \"admin\": \n",
    "        if password1 == 'pass':\n",
    "            login_success()  # if username and password are successfully validated\n",
    "        else:\n",
    "            messagebox.showerror(\"Error\", \"Incorrect password!\")  # in case the username is correct butpassword is not\n",
    "    else:\n",
    "        messagebox.showerror(\"Error\", \"User not found!\")  # in case the username is not valid\n",
    "\n",
    "\n",
    "        \n",
    "# Designing welcome page for login success\n",
    "\n",
    "def login_success():\n",
    "    global login_success_screen\n",
    "    login_success_screen = Toplevel(window)\n",
    "    login_success_screen.title(\"Success\")\n",
    "    login_success_screen.geometry(\"1350x700+0+0\")\n",
    "    login_success_screen.configure(bg='deep sky blue')\n",
    "    Label(login_success_screen, text=\"Login Successful\", bg='deep sky blue', font=('times new roman', 15, 'bold')).pack()\n",
    "    Label(login_success_screen, text=\" \", bg='deep sky blue').pack()\n",
    "    title = Label(login_success_screen, text='WELCOME TO THE HOMEPAGE!', font=('times new roman', 40, \"bold\"),\n",
    "                  fg='white', bg='blue4', bd=5, relief=GROOVE)\n",
    "    title.place(relx=0.5, rely=0.4, anchor='center')\n",
    "    \n",
    "   \n",
    "\n",
    "# creating the log in page\n",
    "\n",
    "window = Tk()\n",
    "window.title('Login Form')\n",
    "window.geometry(\"1350x700+0+0\")\n",
    "\n",
    "# setting the window title\n",
    "title = Label(window, text='Login System', font=('times new roman', 40, \"bold\"), bg='black', fg='white',\n",
    "              bd=10, relief=GROOVE)\n",
    "title.place(x=0, y=0, relwidth=1)\n",
    "\n",
    "#creating the frame for login section\n",
    "Login_Frame = Frame(window)\n",
    "Login_Frame.place(x=500, y=200)\n",
    "\n",
    "# creating the username field\n",
    "label_username = Label(Login_Frame, text='Username:', compound=LEFT, font=('times new roman', 20, \"bold\")).grid(row=0, column=0)\n",
    "uname = StringVar()  # creating a string variable to store the username entered by the user\n",
    "entry_username = Entry(Login_Frame, textvariable=uname, bd=5, relief=GROOVE, font=(\"\", 15)).grid(row=0, column=1)\n",
    "\n",
    "Label(Login_Frame, text=\"\").grid(row=1, column=0)\n",
    "\n",
    "# creating the password field\n",
    "label_password = Label(Login_Frame, text='Password:', compound=LEFT, font=('times new roman', 20, \"bold\")).grid(row=2, column=0)\n",
    "passw = StringVar() # creating a string variable to store the username entered by the user\n",
    "entry_password = Entry(Login_Frame, textvariable=passw, show='*', bd=5, relief=GROOVE, font=(\"\", 15)).grid(row=2, column=1) \n",
    "\n",
    "Label(Login_Frame, text=\"\").grid(row=3, column=0)\n",
    "\n",
    "# creating a remember me checkbutton\n",
    "chkbtn = Checkbutton(Login_Frame, text='Remember me', font=('times new roman', 14)).grid(row=4, column=1)\n",
    "\n",
    "Label(Login_Frame, text=\"\").grid(row=5, column=0)\n",
    "\n",
    "# creating the login button and linking it to the login_verify() function created previously\n",
    "login_button = Button(Login_Frame, text='Login', width=10, command=login_verify, font=(\"times new roman\", 14, 'bold'),\n",
    "                      bg='blue', fg='white').grid(row=6, column=1)\n",
    "\n",
    "\n",
    "# execution\n",
    "window.mainloop()\n"
   ]
  }
 ],
 "metadata": {
  "kernelspec": {
   "display_name": "Python 3",
   "language": "python",
   "name": "python3"
  },
  "language_info": {
   "codemirror_mode": {
    "name": "ipython",
    "version": 3
   },
   "file_extension": ".py",
   "mimetype": "text/x-python",
   "name": "python",
   "nbconvert_exporter": "python",
   "pygments_lexer": "ipython3",
   "version": "3.7.6"
  }
 },
 "nbformat": 4,
 "nbformat_minor": 4
}
